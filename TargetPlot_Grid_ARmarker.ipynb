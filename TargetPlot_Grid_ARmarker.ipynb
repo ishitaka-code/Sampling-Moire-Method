{
 "cells": [
  {
   "cell_type": "code",
   "execution_count": 51,
   "metadata": {
    "scrolled": true
   },
   "outputs": [
    {
     "data": {
      "image/png": "[encoded data removed]",
      "text/plain": [
       "<Figure size 432x288 with 1 Axes>"
      ]
     },
     "metadata": {
      "needs_background": "light"
     },
     "output_type": "display_data"
    }
   ],
   "source": [
    "import cv2\n",
    "import numpy as np\n",
    "\n",
    "size = 2000\n",
    "GridIMG = np.full((size, size, 3), 255, dtype=np.uint8)\n",
    "maxpixel = size-1\n",
    "# 外枠\n",
    "cv2.line(GridIMG, (0, 0), (maxpixel, 0), (0, 0, 0), thickness=1, lineType=cv2.LINE_8)\n",
    "cv2.line(GridIMG, (0, 0), (0, maxpixel), (0, 0, 0), thickness=1, lineType=cv2.LINE_8)\n",
    "cv2.line(GridIMG, (0, maxpixel), (maxpixel, maxpixel), (0, 0, 0), thickness=1, lineType=cv2.LINE_8)\n",
    "cv2.line(GridIMG, (maxpixel, 0), (maxpixel, maxpixel), (0, 0, 0), thickness=1, lineType=cv2.LINE_8)\n",
    "# グリッド\n",
    "for pixel in range(size):\n",
    "    if pixel % 2 == 0:\n",
    "        # 縦線\n",
    "        cv2.line(GridIMG, (0, pixel), (maxpixel, pixel), (0, 0, 0), thickness=1, lineType=cv2.LINE_8)\n",
    "        # 横線\n",
    "        cv2.line(GridIMG, (pixel, 0), (pixel, maxpixel), (0, 0, 0), thickness=1, lineType=cv2.LINE_8)\n",
    "# 保存\n",
    "cv2.imwrite('TargetGrid.BMP', GridIMG)\n",
    "# プロット\n",
    "fig, ax = plt.subplots()\n",
    "ax.imshow(GridIMG, cmap = \"gray\")\n",
    "ax.axis(\"off\")\n",
    "plt.show()"
   ]
  },
  {
   "cell_type": "code",
   "execution_count": 1,
   "metadata": {},
   "outputs": [
    {
     "data": {
      "image/png": "[encoded data removed]",
      "text/plain": [
       "<Figure size 432x288 with 1 Axes>"
      ]
     },
     "metadata": {
      "needs_background": "light"
     },
     "output_type": "display_data"
    },
    {
     "name": "stdout",
     "output_type": "stream",
     "text": [
      "marker_id00.svg\n"
     ]
    }
   ],
   "source": [
    "import cv2\n",
    "import numpy as np\n",
    "import matplotlib.pyplot as plt\n",
    "\n",
    "markerID = 0\n",
    "aruco = cv2.aruco\n",
    "dictionary = aruco.getPredefinedDictionary(aruco.DICT_4X4_50)\n",
    "marker = aruco.drawMarker(dictionary, markerID, 100) # 第２引数がID　第３引数がピクセルサイズ\n",
    "fig, ax = plt.subplots()\n",
    "ax.imshow(marker, cmap = \"gray\")\n",
    "ax.axis(\"off\")\n",
    "ax.set_title('id='+str(markerID).zfill(2), loc='left', fontsize=40, alpha=0.5)\n",
    "# 画像保存\n",
    "savefilename = \"marker_id\"+str(markerID).zfill(2)\n",
    "if 1:\n",
    "    plt.savefig(savefilename+'.svg', bbox_inches='tight')\n",
    "plt.show()\n",
    "print(savefilename+'.svg')"
   ]
  },
  {
   "cell_type": "code",
   "execution_count": 2,
   "metadata": {},
   "outputs": [
    {
     "ename": "error",
     "evalue": "OpenCV(4.4.0) ..\\opencv_contrib\\modules\\aruco\\src\\aruco.cpp:986: error: (-215:Assertion failed) !_image.empty() in function 'cv::aruco::detectMarkers'\n",
     "output_type": "error",
     "traceback": [
      "\u001b[1;31m---------------------------------------------------------------------------\u001b[0m",
      "\u001b[1;31merror\u001b[0m                                     Traceback (most recent call last)",
      "\u001b[1;32m<ipython-input-2-ba24d165a539>\u001b[0m in \u001b[0;36m<module>\u001b[1;34m\u001b[0m\n\u001b[0;32m      6\u001b[0m     \u001b[0mret\u001b[0m\u001b[1;33m,\u001b[0m \u001b[0mframe\u001b[0m \u001b[1;33m=\u001b[0m \u001b[0mcap\u001b[0m\u001b[1;33m.\u001b[0m\u001b[0mread\u001b[0m\u001b[1;33m(\u001b[0m\u001b[1;33m)\u001b[0m\u001b[1;33m\u001b[0m\u001b[1;33m\u001b[0m\u001b[0m\n\u001b[0;32m      7\u001b[0m \u001b[1;31m#     frame = cv2.cvtColor(frame, cv2.COLOR_BGR2GRAY)\u001b[0m\u001b[1;33m\u001b[0m\u001b[1;33m\u001b[0m\u001b[1;33m\u001b[0m\u001b[0m\n\u001b[1;32m----> 8\u001b[1;33m     \u001b[0mcorners\u001b[0m\u001b[1;33m,\u001b[0m \u001b[0mids\u001b[0m\u001b[1;33m,\u001b[0m \u001b[0mrejectedImgPoints\u001b[0m \u001b[1;33m=\u001b[0m \u001b[0maruco\u001b[0m\u001b[1;33m.\u001b[0m\u001b[0mdetectMarkers\u001b[0m\u001b[1;33m(\u001b[0m\u001b[0mframe\u001b[0m\u001b[1;33m,\u001b[0m \u001b[0mdictionary\u001b[0m\u001b[1;33m)\u001b[0m \u001b[1;31m# ここで映像からマーカーを検出\u001b[0m\u001b[1;33m\u001b[0m\u001b[1;33m\u001b[0m\u001b[0m\n\u001b[0m\u001b[0;32m      9\u001b[0m     \u001b[0maruco\u001b[0m\u001b[1;33m.\u001b[0m\u001b[0mdrawDetectedMarkers\u001b[0m\u001b[1;33m(\u001b[0m\u001b[0mframe\u001b[0m\u001b[1;33m,\u001b[0m \u001b[0mcorners\u001b[0m\u001b[1;33m,\u001b[0m \u001b[0mids\u001b[0m\u001b[1;33m,\u001b[0m \u001b[1;33m(\u001b[0m\u001b[1;36m0\u001b[0m\u001b[1;33m,\u001b[0m\u001b[1;36m255\u001b[0m\u001b[1;33m,\u001b[0m\u001b[1;36m0\u001b[0m\u001b[1;33m)\u001b[0m\u001b[1;33m)\u001b[0m \u001b[1;31m# マーカーを描画\u001b[0m\u001b[1;33m\u001b[0m\u001b[1;33m\u001b[0m\u001b[0m\n\u001b[0;32m     10\u001b[0m     \u001b[0mcv2\u001b[0m\u001b[1;33m.\u001b[0m\u001b[0mimshow\u001b[0m\u001b[1;33m(\u001b[0m\u001b[1;34m'frame'\u001b[0m\u001b[1;33m,\u001b[0m\u001b[0mframe\u001b[0m\u001b[1;33m)\u001b[0m\u001b[1;33m\u001b[0m\u001b[1;33m\u001b[0m\u001b[0m\n",
      "\u001b[1;31merror\u001b[0m: OpenCV(4.4.0) ..\\opencv_contrib\\modules\\aruco\\src\\aruco.cpp:986: error: (-215:Assertion failed) !_image.empty() in function 'cv::aruco::detectMarkers'\n"
     ]
    }
   ],
   "source": [
    "camera_id = \"http://192.168.0.4:8080/video\"\n",
    "cap = cv2.VideoCapture(camera_id)\n",
    "aruco = cv2.aruco\n",
    "dictionary = aruco.getPredefinedDictionary(aruco.DICT_4X4_50)\n",
    "while(True):\n",
    "    ret, frame = cap.read()\n",
    "#     frame = cv2.cvtColor(frame, cv2.COLOR_BGR2GRAY)\n",
    "    corners, ids, rejectedImgPoints = aruco.detectMarkers(frame, dictionary) # ここで映像からマーカーを検出\n",
    "    aruco.drawDetectedMarkers(frame, corners, ids, (0,255,0)) # マーカーを描画\n",
    "    cv2.imshow('frame',frame)\n",
    "    if cv2.waitKey(1) & 0xFF == ord('q'):\n",
    "        break\n",
    "cap.release()\n",
    "cv2.destroyAllWindows()"
   ]
  },
  {
   "cell_type": "code",
   "execution_count": null,
   "metadata": {},
   "outputs": [],
   "source": []
  }
 ],
 "metadata": {
  "hide_input": false,
  "kernelspec": {
   "display_name": "Python 3",
   "language": "python",
   "name": "python3"
  },
  "language_info": {
   "codemirror_mode": {
    "name": "ipython",
    "version": 3
   },
   "file_extension": ".py",
   "mimetype": "text/x-python",
   "name": "python",
   "nbconvert_exporter": "python",
   "pygments_lexer": "ipython3",
   "version": "3.6.10"
  }
 },
 "nbformat": 4,
 "nbformat_minor": 4
}
