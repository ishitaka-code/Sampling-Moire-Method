{
 "cells": [
  {
   "cell_type": "code",
   "execution_count": null,
   "metadata": {},
   "outputs": [],
   "source": [
    "import cv2\n",
    "import sys\n",
    "\n",
    "camera_id = 1\n",
    "delay = 1\n",
    "window_name = 'frame (quit: q)'\n",
    "\n",
    "cap = cv2.VideoCapture(camera_id)\n",
    "# cap = cv2.VideoCapture('http://192.168.0.3:8080/video')\n",
    "\n",
    "if not cap.isOpened():\n",
    "    sys.exit()\n",
    "\n",
    "while True:\n",
    "    ret, img = cap.read()\n",
    "    # リアルタイムで画像処理（ここに書く）\n",
    "    # 白黒\n",
    "    img = cv2.cvtColor(img, cv2.COLOR_BGR2GRAY)\n",
    "    # 単純二値化\n",
    "#     ret, img_binary = cv2.threshold(img, 60, 255, cv2.THRESH_BINARY)\n",
    "#     ret, img_binary = cv2.threshold(img, 0, 255, cv2.THRESH_OTSU)\n",
    "    # 輪郭抽出\n",
    "#     contours, hierarchy = cv2.findContours(img_binary,\n",
    "#                                            cv2.RETR_LIST,\n",
    "#                                            cv2.CHAIN_APPROX_NONE)\n",
    "    # 輪郭を元画像に描画\n",
    "#     img = cv2.drawContours(img, contours, -1, (0, 255, 0), 1)\n",
    "    # 直線\n",
    "    img = cv2.line(img, (int(img.shape[1]/2), 0), (int(img.shape[1]/2), int(img.shape[0])),\n",
    "                   (2**8, 0, 0), thickness=1, lineType=cv2.LINE_AA)\n",
    "    img = cv2.line(img, (0, int(img.shape[0]/2)), (int(img.shape[1]), int(img.shape[0]/2)),\n",
    "                   (2**8, 0, 0), thickness=1, lineType=cv2.LINE_AA)\n",
    "    cv2.imshow(window_name, img)\n",
    "    if cv2.waitKey(delay) & 0xFF == ord('q'):\n",
    "        break\n",
    "\n",
    "cv2.destroyWindow(window_name)\n",
    "cap.release()"
   ]
  },
  {
   "cell_type": "code",
   "execution_count": 18,
   "metadata": {},
   "outputs": [
    {
     "name": "stdout",
     "output_type": "stream",
     "text": [
      "True\n",
      "True\n",
      "(480, 640)\n"
     ]
    }
   ],
   "source": [
    "import cv2\n",
    "\n",
    "cap_cam = cv2.VideoCapture(0)\n",
    "# print(type(cap_cam))\n",
    "print(cap_cam.isOpened())\n",
    "# print(cap_cam.get(cv2.CAP_PROP_POS_FRAMES))\n",
    "\n",
    "ret, frame = cap_cam.read()\n",
    "gray = cv2.cvtColor(frame, cv2.COLOR_BGR2GRAY)\n",
    "\n",
    "print(ret)\n",
    "# print(type(gray))\n",
    "print(gray.shape)\n",
    "# print(cap_cam.get(cv2.CAP_PROP_POS_FRAMES))\n",
    "cap_cam.release()"
   ]
  }
 ],
 "metadata": {
  "hide_input": false,
  "kernelspec": {
   "display_name": "Python 3",
   "language": "python",
   "name": "python3"
  },
  "language_info": {
   "codemirror_mode": {
    "name": "ipython",
    "version": 3
   },
   "file_extension": ".py",
   "mimetype": "text/x-python",
   "name": "python",
   "nbconvert_exporter": "python",
   "pygments_lexer": "ipython3",
   "version": "3.6.10"
  }
 },
 "nbformat": 4,
 "nbformat_minor": 4
}
